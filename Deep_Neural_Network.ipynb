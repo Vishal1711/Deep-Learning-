{
  "nbformat": 4,
  "nbformat_minor": 0,
  "metadata": {
    "colab": {
      "name": "Deep_Neural-Network.ipynb",
      "provenance": [],
      "collapsed_sections": [],
      "authorship_tag": "ABX9TyP/98PAIiSd9DDQhV66gaUX",
      "include_colab_link": true
    },
    "kernelspec": {
      "name": "python3",
      "display_name": "Python 3"
    },
    "language_info": {
      "name": "python"
    }
  },
  "cells": [
    {
      "cell_type": "markdown",
      "metadata": {
        "id": "view-in-github",
        "colab_type": "text"
      },
      "source": [
        "<a href=\"https://colab.research.google.com/github/Vishal1711/Deep-Learning-/blob/main/Deep_Neural_Network.ipynb\" target=\"_parent\"><img src=\"https://colab.research.google.com/assets/colab-badge.svg\" alt=\"Open In Colab\"/></a>"
      ]
    },
    {
      "cell_type": "code",
      "execution_count": null,
      "metadata": {
        "id": "_WFBRS7InZAv"
      },
      "outputs": [],
      "source": [
        "import numpy as np\n",
        "import matplotlib.pyplot as plt\n",
        "from sklearn import datasets\n",
        "from keras.models import Sequential\n",
        "from keras.layers import Dense\n",
        "from tensorflow.keras.optimizers import Adam"
      ]
    },
    {
      "cell_type": "code",
      "source": [
        "np.random.seed(0)"
      ],
      "metadata": {
        "id": "61MzmTyLpOXw"
      },
      "execution_count": null,
      "outputs": []
    },
    {
      "cell_type": "code",
      "source": [
        ""
      ],
      "metadata": {
        "id": "BSRexJG3S2iC"
      },
      "execution_count": null,
      "outputs": []
    },
    {
      "cell_type": "code",
      "source": [
        "n_pts = 500\n",
        "X, y = datasets.make_circles(n_samples=n_pts, random_state= 123, noise=0.1, factor = 0.2)\n"
      ],
      "metadata": {
        "id": "-CayF6xnoFaP"
      },
      "execution_count": null,
      "outputs": []
    },
    {
      "cell_type": "code",
      "source": [
        "plt.scatter(X[y==0, 0], X[y==0, 1])\n",
        "plt.scatter(X[y==1, 0], X[y==1, 1])"
      ],
      "metadata": {
        "colab": {
          "base_uri": "https://localhost:8080/",
          "height": 283
        },
        "id": "LJpOMS7zqhaq",
        "outputId": "81b1173b-e967-48d2-ae18-516ec9ef2a47"
      },
      "execution_count": null,
      "outputs": [
        {
          "output_type": "execute_result",
          "data": {
            "text/plain": [
              "<matplotlib.collections.PathCollection at 0x7fbd5e2ff110>"
            ]
          },
          "metadata": {},
          "execution_count": 25
        },
        {
          "output_type": "display_data",
          "data": {
            "image/png": "[encoded data removed]",
            "text/plain": [
              "<Figure size 432x288 with 1 Axes>"
            ]
          },
          "metadata": {
            "needs_background": "light"
          }
        }
      ]
    },
    {
      "cell_type": "code",
      "source": [
        "model = Sequential()\n",
        "model.add(Dense(4, input_shape=(2,), activation='sigmoid'))\n",
        "model.add(Dense(1,activation ='sigmoid'))\n",
        "model.compile(Adam(learning_rate=0.01), 'binary_crossentropy', metrics=['accuracy'])\n",
        "h = model.fit(x=X, y=y, verbose=1, batch_size=20, epochs=100, shuffle='true')"
      ],
      "metadata": {
        "colab": {
          "base_uri": "https://localhost:8080/"
        },
        "id": "-9VCI5T3S4b-",
        "outputId": "4c8734a8-cf0e-493b-831c-e1b8490baab2"
      },
      "execution_count": null,
      "outputs": [
        {
          "output_type": "stream",
          "name": "stdout",
          "text": [
            "Epoch 1/100\n",
            "25/25 [==============================] - 0s 2ms/step - loss: 0.7509 - accuracy: 0.5000\n",
            "Epoch 2/100\n",
            "25/25 [==============================] - 0s 1ms/step - loss: 0.7004 - accuracy: 0.5920\n",
            "Epoch 3/100\n",
            "25/25 [==============================] - 0s 1ms/step - loss: 0.6960 - accuracy: 0.4580\n",
            "Epoch 4/100\n",
            "25/25 [==============================] - 0s 1ms/step - loss: 0.6951 - accuracy: 0.4540\n",
            "Epoch 5/100\n",
            "25/25 [==============================] - 0s 1ms/step - loss: 0.6948 - accuracy: 0.5520\n",
            "Epoch 6/100\n",
            "25/25 [==============================] - 0s 1ms/step - loss: 0.6944 - accuracy: 0.4080\n",
            "Epoch 7/100\n",
            "25/25 [==============================] - 0s 2ms/step - loss: 0.6948 - accuracy: 0.6040\n",
            "Epoch 8/100\n",
            "25/25 [==============================] - 0s 1ms/step - loss: 0.6940 - accuracy: 0.3440\n",
            "Epoch 9/100\n",
            "25/25 [==============================] - 0s 1ms/step - loss: 0.6939 - accuracy: 0.3940\n",
            "Epoch 10/100\n",
            "25/25 [==============================] - 0s 1ms/step - loss: 0.6936 - accuracy: 0.6700\n",
            "Epoch 11/100\n",
            "25/25 [==============================] - 0s 1ms/step - loss: 0.6934 - accuracy: 0.5060\n",
            "Epoch 12/100\n",
            "25/25 [==============================] - 0s 1ms/step - loss: 0.6928 - accuracy: 0.4340\n",
            "Epoch 13/100\n",
            "25/25 [==============================] - 0s 1ms/step - loss: 0.6930 - accuracy: 0.5880\n",
            "Epoch 14/100\n",
            "25/25 [==============================] - 0s 2ms/step - loss: 0.6910 - accuracy: 0.3960\n",
            "Epoch 15/100\n",
            "25/25 [==============================] - 0s 1ms/step - loss: 0.6895 - accuracy: 0.4940\n",
            "Epoch 16/100\n",
            "25/25 [==============================] - 0s 2ms/step - loss: 0.6849 - accuracy: 0.5520\n",
            "Epoch 17/100\n",
            "25/25 [==============================] - 0s 1ms/step - loss: 0.6796 - accuracy: 0.5560\n",
            "Epoch 18/100\n",
            "25/25 [==============================] - 0s 1ms/step - loss: 0.6720 - accuracy: 0.6800\n",
            "Epoch 19/100\n",
            "25/25 [==============================] - 0s 1ms/step - loss: 0.6620 - accuracy: 0.6560\n",
            "Epoch 20/100\n",
            "25/25 [==============================] - 0s 2ms/step - loss: 0.6505 - accuracy: 0.6660\n",
            "Epoch 21/100\n",
            "25/25 [==============================] - 0s 2ms/step - loss: 0.6391 - accuracy: 0.6760\n",
            "Epoch 22/100\n",
            "25/25 [==============================] - 0s 1ms/step - loss: 0.6275 - accuracy: 0.6980\n",
            "Epoch 23/100\n",
            "25/25 [==============================] - 0s 1ms/step - loss: 0.6141 - accuracy: 0.7200\n",
            "Epoch 24/100\n",
            "25/25 [==============================] - 0s 2ms/step - loss: 0.6014 - accuracy: 0.7660\n",
            "Epoch 25/100\n",
            "25/25 [==============================] - 0s 1ms/step - loss: 0.5875 - accuracy: 0.7780\n",
            "Epoch 26/100\n",
            "25/25 [==============================] - 0s 1ms/step - loss: 0.5733 - accuracy: 0.8140\n",
            "Epoch 27/100\n",
            "25/25 [==============================] - 0s 2ms/step - loss: 0.5587 - accuracy: 0.8160\n",
            "Epoch 28/100\n",
            "25/25 [==============================] - 0s 1ms/step - loss: 0.5412 - accuracy: 0.8560\n",
            "Epoch 29/100\n",
            "25/25 [==============================] - 0s 1ms/step - loss: 0.5230 - accuracy: 0.8480\n",
            "Epoch 30/100\n",
            "25/25 [==============================] - 0s 2ms/step - loss: 0.5044 - accuracy: 0.8580\n",
            "Epoch 31/100\n",
            "25/25 [==============================] - 0s 2ms/step - loss: 0.4849 - accuracy: 0.8640\n",
            "Epoch 32/100\n",
            "25/25 [==============================] - 0s 1ms/step - loss: 0.4654 - accuracy: 0.8720\n",
            "Epoch 33/100\n",
            "25/25 [==============================] - 0s 1ms/step - loss: 0.4459 - accuracy: 0.8820\n",
            "Epoch 34/100\n",
            "25/25 [==============================] - 0s 1ms/step - loss: 0.4263 - accuracy: 0.8800\n",
            "Epoch 35/100\n",
            "25/25 [==============================] - 0s 1ms/step - loss: 0.4073 - accuracy: 0.8820\n",
            "Epoch 36/100\n",
            "25/25 [==============================] - 0s 1ms/step - loss: 0.3884 - accuracy: 0.8860\n",
            "Epoch 37/100\n",
            "25/25 [==============================] - 0s 2ms/step - loss: 0.3723 - accuracy: 0.8940\n",
            "Epoch 38/100\n",
            "25/25 [==============================] - 0s 1ms/step - loss: 0.3541 - accuracy: 0.9100\n",
            "Epoch 39/100\n",
            "25/25 [==============================] - 0s 1ms/step - loss: 0.3375 - accuracy: 0.9060\n",
            "Epoch 40/100\n",
            "25/25 [==============================] - 0s 1ms/step - loss: 0.3219 - accuracy: 0.9060\n",
            "Epoch 41/100\n",
            "25/25 [==============================] - 0s 2ms/step - loss: 0.3061 - accuracy: 0.9120\n",
            "Epoch 42/100\n",
            "25/25 [==============================] - 0s 1ms/step - loss: 0.2920 - accuracy: 0.9180\n",
            "Epoch 43/100\n",
            "25/25 [==============================] - 0s 1ms/step - loss: 0.2789 - accuracy: 0.9160\n",
            "Epoch 44/100\n",
            "25/25 [==============================] - 0s 1ms/step - loss: 0.2656 - accuracy: 0.9360\n",
            "Epoch 45/100\n",
            "25/25 [==============================] - 0s 1ms/step - loss: 0.2537 - accuracy: 0.9440\n",
            "Epoch 46/100\n",
            "25/25 [==============================] - 0s 2ms/step - loss: 0.2427 - accuracy: 0.9440\n",
            "Epoch 47/100\n",
            "25/25 [==============================] - 0s 2ms/step - loss: 0.2313 - accuracy: 0.9480\n",
            "Epoch 48/100\n",
            "25/25 [==============================] - 0s 2ms/step - loss: 0.2213 - accuracy: 0.9520\n",
            "Epoch 49/100\n",
            "25/25 [==============================] - 0s 1ms/step - loss: 0.2112 - accuracy: 0.9660\n",
            "Epoch 50/100\n",
            "25/25 [==============================] - 0s 1ms/step - loss: 0.2020 - accuracy: 0.9760\n",
            "Epoch 51/100\n",
            "25/25 [==============================] - 0s 1ms/step - loss: 0.1933 - accuracy: 0.9860\n",
            "Epoch 52/100\n",
            "25/25 [==============================] - 0s 2ms/step - loss: 0.1850 - accuracy: 0.9920\n",
            "Epoch 53/100\n",
            "25/25 [==============================] - 0s 1ms/step - loss: 0.1771 - accuracy: 0.9920\n",
            "Epoch 54/100\n",
            "25/25 [==============================] - 0s 1ms/step - loss: 0.1695 - accuracy: 0.9920\n",
            "Epoch 55/100\n",
            "25/25 [==============================] - 0s 2ms/step - loss: 0.1632 - accuracy: 0.9940\n",
            "Epoch 56/100\n",
            "25/25 [==============================] - 0s 1ms/step - loss: 0.1561 - accuracy: 0.9940\n",
            "Epoch 57/100\n",
            "25/25 [==============================] - 0s 2ms/step - loss: 0.1498 - accuracy: 0.9940\n",
            "Epoch 58/100\n",
            "25/25 [==============================] - 0s 2ms/step - loss: 0.1438 - accuracy: 0.9960\n",
            "Epoch 59/100\n",
            "25/25 [==============================] - 0s 1ms/step - loss: 0.1382 - accuracy: 0.9960\n",
            "Epoch 60/100\n",
            "25/25 [==============================] - 0s 2ms/step - loss: 0.1328 - accuracy: 0.9960\n",
            "Epoch 61/100\n",
            "25/25 [==============================] - 0s 1ms/step - loss: 0.1279 - accuracy: 0.9960\n",
            "Epoch 62/100\n",
            "25/25 [==============================] - 0s 1ms/step - loss: 0.1231 - accuracy: 0.9960\n",
            "Epoch 63/100\n",
            "25/25 [==============================] - 0s 1ms/step - loss: 0.1184 - accuracy: 0.9960\n",
            "Epoch 64/100\n",
            "25/25 [==============================] - 0s 2ms/step - loss: 0.1141 - accuracy: 0.9960\n",
            "Epoch 65/100\n",
            "25/25 [==============================] - 0s 1ms/step - loss: 0.1100 - accuracy: 0.9960\n",
            "Epoch 66/100\n",
            "25/25 [==============================] - 0s 1ms/step - loss: 0.1062 - accuracy: 0.9960\n",
            "Epoch 67/100\n",
            "25/25 [==============================] - 0s 2ms/step - loss: 0.1027 - accuracy: 0.9960\n",
            "Epoch 68/100\n",
            "25/25 [==============================] - 0s 2ms/step - loss: 0.0990 - accuracy: 0.9960\n",
            "Epoch 69/100\n",
            "25/25 [==============================] - 0s 1ms/step - loss: 0.0960 - accuracy: 0.9960\n",
            "Epoch 70/100\n",
            "25/25 [==============================] - 0s 1ms/step - loss: 0.0925 - accuracy: 0.9960\n",
            "Epoch 71/100\n",
            "25/25 [==============================] - 0s 1ms/step - loss: 0.0897 - accuracy: 0.9960\n",
            "Epoch 72/100\n",
            "25/25 [==============================] - 0s 1ms/step - loss: 0.0869 - accuracy: 0.9960\n",
            "Epoch 73/100\n",
            "25/25 [==============================] - 0s 1ms/step - loss: 0.0840 - accuracy: 0.9960\n",
            "Epoch 74/100\n",
            "25/25 [==============================] - 0s 1ms/step - loss: 0.0815 - accuracy: 0.9960\n",
            "Epoch 75/100\n",
            "25/25 [==============================] - 0s 2ms/step - loss: 0.0790 - accuracy: 0.9980\n",
            "Epoch 76/100\n",
            "25/25 [==============================] - 0s 1ms/step - loss: 0.0767 - accuracy: 0.9980\n",
            "Epoch 77/100\n",
            "25/25 [==============================] - 0s 1ms/step - loss: 0.0743 - accuracy: 0.9980\n",
            "Epoch 78/100\n",
            "25/25 [==============================] - 0s 2ms/step - loss: 0.0723 - accuracy: 0.9980\n",
            "Epoch 79/100\n",
            "25/25 [==============================] - 0s 2ms/step - loss: 0.0702 - accuracy: 0.9980\n",
            "Epoch 80/100\n",
            "25/25 [==============================] - 0s 2ms/step - loss: 0.0680 - accuracy: 0.9980\n",
            "Epoch 81/100\n",
            "25/25 [==============================] - 0s 2ms/step - loss: 0.0662 - accuracy: 0.9980\n",
            "Epoch 82/100\n",
            "25/25 [==============================] - 0s 2ms/step - loss: 0.0644 - accuracy: 0.9980\n",
            "Epoch 83/100\n",
            "25/25 [==============================] - 0s 2ms/step - loss: 0.0626 - accuracy: 0.9980\n",
            "Epoch 84/100\n",
            "25/25 [==============================] - 0s 2ms/step - loss: 0.0609 - accuracy: 0.9980\n",
            "Epoch 85/100\n",
            "25/25 [==============================] - 0s 2ms/step - loss: 0.0594 - accuracy: 0.9980\n",
            "Epoch 86/100\n",
            "25/25 [==============================] - 0s 1ms/step - loss: 0.0577 - accuracy: 0.9980\n",
            "Epoch 87/100\n",
            "25/25 [==============================] - 0s 2ms/step - loss: 0.0562 - accuracy: 0.9980\n",
            "Epoch 88/100\n",
            "25/25 [==============================] - 0s 2ms/step - loss: 0.0548 - accuracy: 0.9980\n",
            "Epoch 89/100\n",
            "25/25 [==============================] - 0s 1ms/step - loss: 0.0534 - accuracy: 0.9980\n",
            "Epoch 90/100\n",
            "25/25 [==============================] - 0s 2ms/step - loss: 0.0520 - accuracy: 0.9980\n",
            "Epoch 91/100\n",
            "25/25 [==============================] - 0s 1ms/step - loss: 0.0508 - accuracy: 0.9980\n",
            "Epoch 92/100\n",
            "25/25 [==============================] - 0s 1ms/step - loss: 0.0495 - accuracy: 0.9980\n",
            "Epoch 93/100\n",
            "25/25 [==============================] - 0s 1ms/step - loss: 0.0483 - accuracy: 0.9980\n",
            "Epoch 94/100\n",
            "25/25 [==============================] - 0s 2ms/step - loss: 0.0471 - accuracy: 0.9980\n",
            "Epoch 95/100\n",
            "25/25 [==============================] - 0s 2ms/step - loss: 0.0460 - accuracy: 0.9980\n",
            "Epoch 96/100\n",
            "25/25 [==============================] - 0s 2ms/step - loss: 0.0449 - accuracy: 0.9980\n",
            "Epoch 97/100\n",
            "25/25 [==============================] - 0s 2ms/step - loss: 0.0438 - accuracy: 0.9980\n",
            "Epoch 98/100\n",
            "25/25 [==============================] - 0s 1ms/step - loss: 0.0428 - accuracy: 0.9980\n",
            "Epoch 99/100\n",
            "25/25 [==============================] - 0s 1ms/step - loss: 0.0418 - accuracy: 0.9980\n",
            "Epoch 100/100\n",
            "25/25 [==============================] - 0s 2ms/step - loss: 0.0409 - accuracy: 0.9980\n"
          ]
        }
      ]
    },
    {
      "cell_type": "code",
      "source": [
        "plt.plot(h.history['accuracy'])\n",
        "plt.legend(['accuracy'])\n",
        "plt.ylabel('accuracy')\n",
        "plt.xlabel('epoch')"
      ],
      "metadata": {
        "colab": {
          "base_uri": "https://localhost:8080/",
          "height": 297
        },
        "id": "TkhPDfvPedD3",
        "outputId": "ee49170a-b5be-461d-c8f3-2ec92f4b9408"
      },
      "execution_count": null,
      "outputs": [
        {
          "output_type": "execute_result",
          "data": {
            "text/plain": [
              "Text(0.5, 0, 'epoch')"
            ]
          },
          "metadata": {},
          "execution_count": 27
        },
        {
          "output_type": "display_data",
          "data": {
            "image/png": "[encoded data removed]",
            "text/plain": [
              "<Figure size 432x288 with 1 Axes>"
            ]
          },
          "metadata": {
            "needs_background": "light"
          }
        }
      ]
    },
    {
      "cell_type": "code",
      "source": [
        "plt.plot(h.history['loss'])\n",
        "plt.legend(['loss'])\n",
        "plt.title('loss')\n",
        "plt.xlabel('epoch')"
      ],
      "metadata": {
        "colab": {
          "base_uri": "https://localhost:8080/",
          "height": 313
        },
        "id": "JYGJDQm3fcsh",
        "outputId": "0d5dcee7-4598-4d6e-95ac-96f806535a0a"
      },
      "execution_count": null,
      "outputs": [
        {
          "output_type": "execute_result",
          "data": {
            "text/plain": [
              "Text(0.5, 0, 'epoch')"
            ]
          },
          "metadata": {},
          "execution_count": 28
        },
        {
          "output_type": "display_data",
          "data": {
            "image/png": "[encoded data removed]",
            "text/plain": [
              "<Figure size 432x288 with 1 Axes>"
            ]
          },
          "metadata": {
            "needs_background": "light"
          }
        }
      ]
    },
    {
      "cell_type": "code",
      "source": [
        "def plot_decision_boundary(X, y, model):\n",
        "    x_span = np.linspace(min(X[:,0]) - 0.25, max(X[:,0]) + 0.25)\n",
        "    y_span = np.linspace(min(X[:,1]) - 0.25, max(X[:,1]) + 0.25)\n",
        "    xx, yy = np.meshgrid(x_span, y_span)\n",
        "    grid = np.c_[xx.ravel(), yy.ravel()]\n",
        "    pred_func = model.predict(grid)\n",
        "    z = pred_func.reshape(xx.shape)\n",
        "    plt.contourf(xx, yy, z)\n",
        "plot_decision_boundary(X, y, model)\n",
        "plt.scatter(X[y==0, 0], X[y==0, 1])\n",
        "plt.scatter(X[y==1, 0], X[y==1, 1])"
      ],
      "metadata": {
        "colab": {
          "base_uri": "https://localhost:8080/",
          "height": 283
        },
        "id": "zQkl2YlcgJrx",
        "outputId": "2bc29c93-4c5c-4974-9a08-4a65f74cbc92"
      },
      "execution_count": null,
      "outputs": [
        {
          "output_type": "execute_result",
          "data": {
            "text/plain": [
              "<matplotlib.collections.PathCollection at 0x7fbd5e2fff10>"
            ]
          },
          "metadata": {},
          "execution_count": 29
        },
        {
          "output_type": "display_data",
          "data": {
            "image/png": "[encoded data removed]",
            "text/plain": [
              "<Figure size 432x288 with 1 Axes>"
            ]
          },
          "metadata": {
            "needs_background": "light"
          }
        }
      ]
    },
    {
      "cell_type": "code",
      "source": [
        "plot_decision_boundary(X, y, model)\n",
        "plt.scatter(X[y==0, 0], X[y==0, 1])\n",
        "plt.scatter(X[y==1, 0], X[y==1, 1])\n",
        " \n",
        "x = 0\n",
        "y = 1\n",
        " \n",
        "point = np.array([[x, y]])\n",
        "predict = model.predict(point)\n",
        "plt.plot([x], [y], marker='o', markersize=10, color=\"red\")\n",
        "print(\"Prediction is: \", predict)"
      ],
      "metadata": {
        "colab": {
          "base_uri": "https://localhost:8080/",
          "height": 283
        },
        "id": "NQADrOQvhw1e",
        "outputId": "60cecce9-92dd-41f4-9b5a-ffd3fee2c8c6"
      },
      "execution_count": null,
      "outputs": [
        {
          "output_type": "stream",
          "name": "stdout",
          "text": [
            "Prediction is:  [[0.07165557]]\n"
          ]
        },
        {
          "output_type": "display_data",
          "data": {
            "image/png": "[encoded data removed]",
            "text/plain": [
              "<Figure size 432x288 with 1 Axes>"
            ]
          },
          "metadata": {
            "needs_background": "light"
          }
        }
      ]
    }
  ]
}